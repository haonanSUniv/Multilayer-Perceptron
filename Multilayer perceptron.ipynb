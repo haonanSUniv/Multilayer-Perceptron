{
 "cells": [
  {
   "cell_type": "code",
   "execution_count": 167,
   "metadata": {
    "id": "Lp_bWhjIL-kq"
   },
   "outputs": [],
   "source": [
    "import numpy as np\n",
    "import matplotlib.pyplot as plt\n",
    "import math"
   ]
  },
  {
   "cell_type": "code",
   "execution_count": 168,
   "metadata": {
    "id": "saCXjzSIL-kr",
    "notebookRunGroups": {
     "groupValue": ""
    }
   },
   "outputs": [],
   "source": [
    "def generate_data_3classes(n1,n2,n3, display=True):\n",
    "    X1 = np.random.randn(n1,2)*0.15 - np.array([0.2 , 0.2])\n",
    "    X2 = np.random.randn(n2,2)*0.25 + np.array([0.1 , 0.5])\n",
    "    X3 = np.random.randn(n3,2)*0.15 + np.array([0.6 , 0.2])\n",
    "    X = np.concatenate((X1,X2,X3), axis=0)\n",
    "    Y = np.concatenate([np.ones(n1), np.ones(n2)*2, np.ones(n3)*3])-1\n",
    "\n",
    "    if display:\n",
    "        plt.plot(X1[:,0], X1[:,1], '.r')\n",
    "        plt.plot(X2[:,0], X2[:,1], '.g')\n",
    "        plt.plot(X3[:,0], X3[:,1], '.b')\n",
    "        plt.show()\n",
    "\n",
    "    return X,Y\n",
    "\n",
    "#Converts a class vector (integers) to binary class matrix (copy from keras)\n",
    "def to_categorical(y, num_classes=None, dtype=\"float32\"):\n",
    "    y = np.array(y, dtype=\"int\")\n",
    "    input_shape = y.shape\n",
    "    if input_shape and input_shape[-1] == 1 and len(input_shape) > 1:\n",
    "        input_shape = tuple(input_shape[:-1])\n",
    "    y = y.ravel()\n",
    "    if not num_classes:\n",
    "        num_classes = np.max(y) + 1\n",
    "    n = y.shape[0]\n",
    "    categorical = np.zeros((n, num_classes), dtype=dtype)\n",
    "    categorical[np.arange(n), y] = 1\n",
    "    output_shape = input_shape + (num_classes,)\n",
    "    categorical = np.reshape(categorical, output_shape)\n",
    "    return categorical"
   ]
  },
  {
   "cell_type": "code",
   "execution_count": 169,
   "metadata": {
    "id": "YGIM2D2xL-ks",
    "scrolled": false
   },
   "outputs": [
    {
     "data": {
      "image/png": "[encoded data removed]",
      "text/plain": [
       "<Figure size 432x288 with 1 Axes>"
      ]
     },
     "metadata": {
      "needs_background": "light"
     },
     "output_type": "display_data"
    },
    {
     "name": "stdout",
     "output_type": "stream",
     "text": [
      "[[1. 0. 0.]\n",
      " [1. 0. 0.]\n",
      " [1. 0. 0.]\n",
      " ...\n",
      " [0. 0. 1.]\n",
      " [0. 0. 1.]\n",
      " [0. 0. 1.]]\n"
     ]
    }
   ],
   "source": [
    "X_train, Y_train = generate_data_3classes(100, 200, 150)\n",
    "Y_cat = to_categorical(Y_train)\n",
    "\n",
    "K=Y_cat.shape[1] #nombre de classes\n",
    "(num_examples,D) = X_train.shape # nombre d'exemples et dimension des exemples\n",
    "\n",
    "print(Y_cat)"
   ]
  },
  {
   "cell_type": "code",
   "execution_count": 170,
   "metadata": {
    "id": "J7bCUy_jL-ks"
   },
   "outputs": [],
   "source": [
    "# fonction sigmoide\n",
    "def sigmo(v):\n",
    "    return 1/(1+math.e**(-v))\n",
    "\n",
    "# dérivée de la fonction sigmoide\n",
    "def sigmop(v):\n",
    "    return math.e**(-v)/((1+math.e**(-v))**2)"
   ]
  },
  {
   "cell_type": "code",
   "execution_count": 171,
   "metadata": {
    "id": "cfb_040kL-kt"
   },
   "outputs": [
    {
     "data": {
      "text/plain": [
       "(450, 2)"
      ]
     },
     "execution_count": 171,
     "metadata": {},
     "output_type": "execute_result"
    }
   ],
   "source": [
    "# initialisation aléatoire des poids\n",
    "W = 1 * np.random.normal(size=(D,K))\n",
    "b = np.zeros((1,K))\n",
    "\n",
    "# paramètres de l'apprentissage\n",
    "step_size = 1e-1\n",
    "num_iter = 10000\n",
    "\n",
    "X_train.shape"
   ]
  },
  {
   "cell_type": "code",
   "execution_count": 172,
   "metadata": {
    "id": "2fmP9q-XL-kt",
    "scrolled": true
   },
   "outputs": [
    {
     "name": "stdout",
     "output_type": "stream",
     "text": [
      "iteration 0: loss 0.2049253029720513\n",
      "iteration 1000: loss 0.041371889895716656\n",
      "iteration 2000: loss 0.04097574584692503\n",
      "iteration 3000: loss 0.04083805661524867\n",
      "iteration 4000: loss 0.04077765467833177\n",
      "iteration 5000: loss 0.040753940803335255\n",
      "iteration 6000: loss 0.04075218404946174\n",
      "iteration 7000: loss 0.04076543070427842\n",
      "iteration 8000: loss 0.040789594391397094\n",
      "iteration 9000: loss 0.040821756318611596\n",
      "[[-13.37824225  -6.27531008  34.87351413]\n",
      " [-24.04683779  13.23630395 -13.63677859]]\n",
      "(2, 3)\n"
     ]
    }
   ],
   "source": [
    "# Apprenttissage du réseau\n",
    "X = X_train\n",
    "Y = Y_cat\n",
    "\n",
    "# propagation\n",
    "for i in range(num_iter):\n",
    "\n",
    "    v = np.dot(X,W)+b\n",
    "    y_pred = sigmo(v)\n",
    "    error = y_pred - Y\n",
    "    loss = error**2\n",
    "    loss = np.mean(loss)\n",
    "    \n",
    "    if i % 1000 == 0:   \n",
    "        print('iteration {}: loss {}'.format(i, loss))\n",
    "\n",
    "    #retro-propagation\n",
    "\n",
    "    h = (error*sigmop(v)).T\n",
    "    dL_W =  (2*np.dot(h,X)).T\n",
    "    dL_b =  2*np.mean(error,axis=0)\n",
    "\n",
    "    \n",
    "    W = np.add(W, (-step_size * dL_W))\n",
    "    b = np.add(b, (-step_size * dL_b))\n",
    "\n",
    "print(W)\n",
    "print(dL_W.shape)"
   ]
  },
  {
   "cell_type": "code",
   "execution_count": 173,
   "metadata": {
    "id": "Bktl0_orL-kt"
   },
   "outputs": [
    {
     "name": "stdout",
     "output_type": "stream",
     "text": [
      "Training accuracy: 0.95\n"
     ]
    }
   ],
   "source": [
    "# calcul de la précision\n",
    "v = np.dot(X,W)+b\n",
    "\n",
    "Y_pred = sigmo(v)\n",
    "class_pred = np.argmax(Y_pred,axis=1)\n",
    "\n",
    "print('Training accuracy: {:.2}'.format(np.mean(class_pred == Y_train)))"
   ]
  }
 ],
 "metadata": {
  "colab": {
   "provenance": []
  },
  "kernelspec": {
   "display_name": "Python 3 (ipykernel)",
   "language": "python",
   "name": "python3"
  },
  "language_info": {
   "codemirror_mode": {
    "name": "ipython",
    "version": 3
   },
   "file_extension": ".py",
   "mimetype": "text/x-python",
   "name": "python",
   "nbconvert_exporter": "python",
   "pygments_lexer": "ipython3",
   "version": "3.9.13"
  },
  "vscode": {
   "interpreter": {
    "hash": "9f5af14daace554f6d695160d513a76faa40f5515cabb53273760d1b9fb23d38"
   }
  }
 },
 "nbformat": 4,
 "nbformat_minor": 1
}
